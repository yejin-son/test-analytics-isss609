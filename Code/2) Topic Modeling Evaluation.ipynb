{
 "cells": [
  {
   "cell_type": "markdown",
   "metadata": {},
   "source": [
    "## Topic Analysis"
   ]
  },
  {
   "cell_type": "markdown",
   "metadata": {},
   "source": [
    "### Loading and Preprocessing of Corpus"
   ]
  },
  {
   "cell_type": "code",
   "execution_count": 1,
   "metadata": {},
   "outputs": [],
   "source": [
    "# Import modules\n",
    "import pandas as pd"
   ]
  },
  {
   "cell_type": "code",
   "execution_count": 2,
   "metadata": {},
   "outputs": [
    {
     "data": {
      "text/plain": [
       "(2389, 6)"
      ]
     },
     "execution_count": 2,
     "metadata": {},
     "output_type": "execute_result"
    }
   ],
   "source": [
    "# Import csv file into dataframe\n",
    "flightglobal = pd.read_csv(\"./data/flightglobal_final.csv\")\n",
    "flightglobal.shape"
   ]
  },
  {
   "cell_type": "code",
   "execution_count": 3,
   "metadata": {},
   "outputs": [
    {
     "data": {
      "text/plain": [
       "0    TAP Air Portugal has disclosed plans to furthe...\n",
       "1    For most of the aviation sector, the coronavir...\n",
       "2    UK budget carrier EasyJet is proposing to clos...\n",
       "3    EasyJet's relationship agreement with founder ...\n",
       "4    Gulfstream delivered the 200th G280 in late Ju...\n",
       "Name: Article, dtype: object"
      ]
     },
     "execution_count": 3,
     "metadata": {},
     "output_type": "execute_result"
    }
   ],
   "source": [
    "# Remove irrelevant columns\n",
    "flightglobal = flightglobal['Article'].fillna(\"\")\n",
    "flightglobal.head()"
   ]
  },
  {
   "cell_type": "code",
   "execution_count": 4,
   "metadata": {},
   "outputs": [],
   "source": [
    "# Create list of stop words\n",
    "import nltk\n",
    "stop_list = nltk.corpus.stopwords.words('english')\n",
    "stop_list += ['air', 'aircraft', 'airlines', 'airline', 'flight', 'flights', 'aviation', 'aerospace', \n",
    "              'million', 'billion', 'says', 'said', 'also', 'show', 'would', 'new', 'first', 'year', 'max',  \n",
    "              'one', 'two', 'three', 'four', 'five', 'six', 'seven', 'eight', 'nine', 'ten',\n",
    "              'including', 'us', 'china', 'boeing', 'airbus',\n",
    "              'could', 'time', 'states', 'company', 'cirium', 'adds', 'last', 'group']"
   ]
  },
  {
   "cell_type": "code",
   "execution_count": 5,
   "metadata": {},
   "outputs": [],
   "source": [
    "# Lemmatization with POS Tag\n",
    "from nltk.stem.wordnet import WordNetLemmatizer\n",
    "\n",
    "def get_wordnet_pos(word):\n",
    "    tag = nltk.pos_tag([word])[0][1][0].upper()\n",
    "    tag_dict = {\"J\": wordnet.ADJ,\n",
    "                \"N\": wordnet.NOUN,\n",
    "                \"V\": wordnet.VERB,\n",
    "                \"R\": wordnet.ADV}\n",
    "    return tag_dict.get(tag, wordnet.NOUN)\n",
    "\n",
    "lemmatizer = WordNetLemmatizer()"
   ]
  },
  {
   "cell_type": "code",
   "execution_count": 6,
   "metadata": {},
   "outputs": [],
   "source": [
    "# Pre-processing of Corpus\n",
    "import re\n",
    "from nltk.corpus import wordnet\n",
    "\n",
    "def corpus2article(corpus):\n",
    "    article1 = []\n",
    "    for row in corpus:\n",
    "        article = nltk.word_tokenize(row) # tokenisation\n",
    "        article1.append(article)\n",
    "    article2 = [[w.lower() for w in article] for article in article1] # change to lower case \n",
    "    article3 = [[w.replace('covid-19', 'coronavirus') for w in article] for article in article2] # standardise COVID term\n",
    "    article4 = [[w.replace('-', '') for w in article] for article in article3] # replace hyphens\n",
    "    article5 = [[w for w in article if re.search('^[a-z]+$', w)] for article in article4] # remove punctuations\n",
    "    article6 = [[lemmatizer.lemmatize(w, get_wordnet_pos(w)) for w in article] for article in article5] # lemmatization\n",
    "    article7 = [[w for w in article if w not in stop_list] for article in article6] # remove stopwords\n",
    "    return article7"
   ]
  },
  {
   "cell_type": "code",
   "execution_count": 7,
   "metadata": {},
   "outputs": [],
   "source": [
    "corpus = corpus2article(flightglobal)"
   ]
  },
  {
   "cell_type": "code",
   "execution_count": 8,
   "metadata": {},
   "outputs": [],
   "source": [
    "# Create vectors\n",
    "import gensim\n",
    "def articles2vecs(articles, dictionary):\n",
    "    vecs = [dictionary.doc2bow(article) for article in articles]\n",
    "    return vecs"
   ]
  },
  {
   "cell_type": "code",
   "execution_count": 9,
   "metadata": {},
   "outputs": [],
   "source": [
    "article_dict = gensim.corpora.Dictionary(corpus)\n",
    "article_vecs = articles2vecs(corpus, article_dict)"
   ]
  },
  {
   "cell_type": "markdown",
   "metadata": {},
   "source": [
    "### Latent Dirichlet Allocation with Gensim"
   ]
  },
  {
   "cell_type": "code",
   "execution_count": 10,
   "metadata": {},
   "outputs": [],
   "source": [
    "# Performing LDA with pre-defined no. of topics\n",
    "seed = 20\n",
    "no_topics = 12 # Optimal k based on Coherence Score\n",
    "flightglobal_gensim = gensim.models.ldamodel.LdaModel(corpus=article_vecs, id2word=article_dict, num_topics=no_topics, random_state=seed)"
   ]
  },
  {
   "cell_type": "code",
   "execution_count": 11,
   "metadata": {},
   "outputs": [
    {
     "name": "stdout",
     "output_type": "stream",
     "text": [
      "(0, '0.020*\"say\" + 0.007*\"government\" + 0.006*\"include\" + 0.005*\"financial\" + 0.005*\"carrier\" + 0.005*\"business\" + 0.005*\"state\" + 0.005*\"take\" + 0.004*\"plan\" + 0.004*\"work\"')\n",
      "(1, '0.019*\"say\" + 0.011*\"faa\" + 0.007*\"bek\" + 0.007*\"airport\" + 0.005*\"safety\" + 0.004*\"pilot\" + 0.004*\"crew\" + 0.004*\"system\" + 0.004*\"include\" + 0.004*\"carrier\"')\n",
      "(2, '0.014*\"say\" + 0.010*\"service\" + 0.010*\"carrier\" + 0.009*\"fleet\" + 0.008*\"passenger\" + 0.007*\"airport\" + 0.007*\"data\" + 0.006*\"operate\" + 0.006*\"international\" + 0.005*\"route\"')\n",
      "(3, '0.019*\"say\" + 0.007*\"business\" + 0.006*\"plan\" + 0.006*\"include\" + 0.005*\"add\" + 0.005*\"government\" + 0.004*\"u\" + 0.004*\"carrier\" + 0.004*\"training\" + 0.004*\"state\"')\n",
      "(4, '0.027*\"say\" + 0.006*\"helicopter\" + 0.006*\"service\" + 0.005*\"order\" + 0.005*\"add\" + 0.005*\"engine\" + 0.004*\"production\" + 0.004*\"market\" + 0.004*\"system\" + 0.004*\"carrier\"')\n",
      "(5, '0.015*\"say\" + 0.009*\"engine\" + 0.006*\"production\" + 0.005*\"united\" + 0.005*\"u\" + 0.005*\"system\" + 0.005*\"service\" + 0.004*\"state\" + 0.004*\"add\" + 0.004*\"latam\"')\n",
      "(6, '0.009*\"carrier\" + 0.008*\"airasia\" + 0.008*\"say\" + 0.007*\"service\" + 0.005*\"u\" + 0.005*\"include\" + 0.005*\"add\" + 0.005*\"passenger\" + 0.005*\"executive\" + 0.004*\"state\"')\n",
      "(7, '0.023*\"say\" + 0.010*\"service\" + 0.007*\"include\" + 0.005*\"u\" + 0.005*\"order\" + 0.005*\"helicopter\" + 0.005*\"system\" + 0.005*\"carrier\" + 0.004*\"pilot\" + 0.004*\"take\"')\n",
      "(8, '0.015*\"say\" + 0.007*\"state\" + 0.007*\"engine\" + 0.007*\"crew\" + 0.007*\"runway\" + 0.006*\"airport\" + 0.006*\"pilot\" + 0.006*\"uk\" + 0.006*\"inquiry\" + 0.006*\"add\"')\n",
      "(9, '0.020*\"say\" + 0.010*\"u\" + 0.008*\"helicopter\" + 0.006*\"test\" + 0.005*\"january\" + 0.004*\"system\" + 0.004*\"add\" + 0.004*\"order\" + 0.004*\"fleet\" + 0.004*\"delivery\"')\n",
      "(10, '0.017*\"say\" + 0.007*\"fleet\" + 0.006*\"order\" + 0.006*\"jet\" + 0.006*\"chief\" + 0.005*\"business\" + 0.005*\"executive\" + 0.005*\"take\" + 0.005*\"spirit\" + 0.005*\"carrier\"')\n",
      "(11, '0.018*\"say\" + 0.010*\"carrier\" + 0.005*\"capacity\" + 0.005*\"passenger\" + 0.005*\"order\" + 0.005*\"january\" + 0.005*\"month\" + 0.005*\"demand\" + 0.005*\"fleet\" + 0.004*\"include\"')\n"
     ]
    }
   ],
   "source": [
    "# Inspect learnt topics using top no. of words\n",
    "topics = flightglobal_gensim.show_topics(no_topics, 10)\n",
    "\n",
    "for i in range(0, no_topics):\n",
    "    print(topics[i])"
   ]
  },
  {
   "cell_type": "markdown",
   "metadata": {},
   "source": [
    "### Latent Dirichlet Allocation Mallet Model"
   ]
  },
  {
   "cell_type": "code",
   "execution_count": 12,
   "metadata": {},
   "outputs": [],
   "source": [
    "import gensim\n",
    "import os\n",
    "os.environ.update({'MALLET_HOME':r'C:/mallet/mallet-2.0.8/'})"
   ]
  },
  {
   "cell_type": "code",
   "execution_count": 13,
   "metadata": {},
   "outputs": [],
   "source": [
    "# Performing Mallet with pre-defined no. of topics\n",
    "seed = 20\n",
    "no_topics = 7 # Optimal k based on Coherence Score\n",
    "no_iter = 1000\n",
    "\n",
    "mallet_path = r'C:\\mallet\\mallet-2.0.8\\bin\\mallet' # update this path\n",
    "flightglobal_mallet = gensim.models.wrappers.LdaMallet(mallet_path, corpus=article_vecs, iterations=no_iter, num_topics=no_topics, id2word=article_dict, random_seed=seed)"
   ]
  },
  {
   "cell_type": "code",
   "execution_count": 14,
   "metadata": {},
   "outputs": [
    {
     "name": "stdout",
     "output_type": "stream",
     "text": [
      "(0, '0.017*\"pilot\" + 0.015*\"crew\" + 0.010*\"safety\" + 0.010*\"runway\" + 0.010*\"engine\" + 0.009*\"faa\" + 0.007*\"approach\" + 0.007*\"control\" + 0.007*\"land\" + 0.007*\"state\"')\n",
      "(1, '0.016*\"system\" + 0.015*\"test\" + 0.014*\"force\" + 0.013*\"helicopter\" + 0.010*\"programme\" + 0.009*\"service\" + 0.008*\"design\" + 0.007*\"capability\" + 0.007*\"technology\" + 0.006*\"include\"')\n",
      "(2, '0.022*\"government\" + 0.014*\"support\" + 0.011*\"state\" + 0.011*\"plan\" + 0.009*\"uk\" + 0.009*\"provide\" + 0.009*\"business\" + 0.008*\"share\" + 0.008*\"carrier\" + 0.008*\"financial\"')\n",
      "(3, '0.017*\"expect\" + 0.015*\"order\" + 0.014*\"fleet\" + 0.014*\"cost\" + 0.013*\"end\" + 0.012*\"revenue\" + 0.011*\"quarter\" + 0.011*\"production\" + 0.011*\"delivery\" + 0.010*\"month\"')\n",
      "(4, '0.033*\"carrier\" + 0.028*\"service\" + 0.018*\"operation\" + 0.016*\"airport\" + 0.016*\"international\" + 0.016*\"route\" + 0.016*\"schedule\" + 0.014*\"operate\" + 0.013*\"fleet\" + 0.012*\"april\"')\n",
      "(5, '0.014*\"business\" + 0.010*\"customer\" + 0.010*\"chief\" + 0.010*\"jet\" + 0.010*\"market\" + 0.010*\"work\" + 0.009*\"commercial\" + 0.009*\"add\" + 0.008*\"executive\" + 0.008*\"include\"')\n",
      "(6, '0.032*\"passenger\" + 0.028*\"coronavirus\" + 0.022*\"travel\" + 0.014*\"demand\" + 0.013*\"capacity\" + 0.013*\"march\" + 0.012*\"measure\" + 0.011*\"outbreak\" + 0.011*\"country\" + 0.010*\"cargo\"')\n"
     ]
    }
   ],
   "source": [
    "# Preview topics\n",
    "vecTop = flightglobal_mallet.show_topics()\n",
    "for i in range(0, no_topics):\n",
    "    print(vecTop[i])"
   ]
  },
  {
   "cell_type": "markdown",
   "metadata": {},
   "source": [
    "### Latent Dirichlet Allocation with sklearn"
   ]
  },
  {
   "cell_type": "code",
   "execution_count": 15,
   "metadata": {},
   "outputs": [],
   "source": [
    "from sklearn.decomposition import LatentDirichletAllocation\n",
    "from sklearn.feature_extraction.text import CountVectorizer"
   ]
  },
  {
   "cell_type": "code",
   "execution_count": 16,
   "metadata": {},
   "outputs": [],
   "source": [
    "corpus_joined = [\" \".join(x) for x in corpus] # joined to fit vectorizer\n",
    "\n",
    "# Converts text documents to a matrix of token counts\n",
    "vectorizer = CountVectorizer()\n",
    "article_vect = vectorizer.fit_transform(corpus_joined)\n",
    "\n",
    "# Saves all the words to see the words in each topic\n",
    "feature_names = vectorizer.get_feature_names()"
   ]
  },
  {
   "cell_type": "code",
   "execution_count": 17,
   "metadata": {},
   "outputs": [],
   "source": [
    "# Build LDA model with pre-defined no. of topics\n",
    "seed = 20\n",
    "no_topics = 4 # Optimal k based on Coherence Score\n",
    "flightglobal_sklearn = LatentDirichletAllocation(n_components=no_topics, learning_method='online', n_jobs = -1, random_state=seed)\n",
    "sklearn_output = flightglobal_sklearn.fit_transform(article_vect)"
   ]
  },
  {
   "cell_type": "code",
   "execution_count": 18,
   "metadata": {},
   "outputs": [
    {
     "name": "stdout",
     "output_type": "stream",
     "text": [
      "Topic 0:\n",
      "urban mobility vehicle evtol hypersonic electric drone uber uam taxi\n",
      "Topic 1:\n",
      "say crew runway pilot investigation engine airport approach safety inquiry\n",
      "Topic 2:\n",
      "say carrier coronavirus passenger government march service add travel fleet\n",
      "Topic 3:\n",
      "say system service test helicopter include production programme force engine\n"
     ]
    }
   ],
   "source": [
    "# Inspect top topics and and the top most frequent words for each topic\n",
    "def display_topics(model, feature_names, no_top_words):\n",
    "    for topic_idx, topic in enumerate(model.components_):\n",
    "        print(\"Topic %d:\" % (topic_idx))\n",
    "        print(\" \".join([feature_names[i] for i in topic.argsort()[:-no_top_words - 1:-1]]))\n",
    "\n",
    "no_top_words = 10\n",
    "display_topics(flightglobal_sklearn, feature_names, 10)"
   ]
  },
  {
   "cell_type": "markdown",
   "metadata": {},
   "source": [
    "### Model Evaluation - Perplexity and Coherence Score"
   ]
  },
  {
   "cell_type": "code",
   "execution_count": 19,
   "metadata": {},
   "outputs": [
    {
     "data": {
      "text/plain": [
       "(108, 6)"
      ]
     },
     "execution_count": 19,
     "metadata": {},
     "output_type": "execute_result"
    }
   ],
   "source": [
    "# Prepare test data for perplexity scoring\n",
    "import pandas as pd\n",
    "flightglobal_test = pd.read_csv(\"./data/flightglobal_july.csv\")\n",
    "flightglobal_test.shape"
   ]
  },
  {
   "cell_type": "code",
   "execution_count": 20,
   "metadata": {},
   "outputs": [
    {
     "data": {
      "text/plain": [
       "0    Serbia has taken delivery of six China Aerospa...\n",
       "1    UMS Skeldar has secured its third deal within ...\n",
       "2    Irkut has commenced testing of a domestically-...\n",
       "3    Aviation consultancy IBA has outlined adjustme...\n",
       "4    South African Airways unions have largely indi...\n",
       "Name: Article, dtype: object"
      ]
     },
     "execution_count": 20,
     "metadata": {},
     "output_type": "execute_result"
    }
   ],
   "source": [
    "flightglobal_test = flightglobal_test['Article'].fillna(\"\")\n",
    "flightglobal_test.head()"
   ]
  },
  {
   "cell_type": "code",
   "execution_count": 21,
   "metadata": {},
   "outputs": [],
   "source": [
    "corpus_test = corpus2article(flightglobal_test)\n",
    "article_dict_test = gensim.corpora.Dictionary(corpus_test)\n",
    "article_vecs_test = articles2vecs(corpus_test, article_dict_test)"
   ]
  },
  {
   "cell_type": "code",
   "execution_count": 22,
   "metadata": {},
   "outputs": [],
   "source": [
    "corpustest_joined = [\" \".join(x) for x in corpus_test] # joined to fit vectorizer\n",
    "article_vect_test = vectorizer.transform(corpustest_joined)"
   ]
  },
  {
   "cell_type": "code",
   "execution_count": 23,
   "metadata": {},
   "outputs": [
    {
     "name": "stdout",
     "output_type": "stream",
     "text": [
      "\n",
      "Perplexity for LDA Model with Gensim:  -17.206977798082125\n"
     ]
    }
   ],
   "source": [
    "# Compute perplexity score\n",
    "perplex_gensim = flightglobal_gensim.log_perplexity(article_vecs_test, total_docs=None) # LDA with Gensim\n",
    "print('\\nPerplexity for LDA Model with Gensim: ', perplex_gensim)"
   ]
  },
  {
   "cell_type": "code",
   "execution_count": 24,
   "metadata": {},
   "outputs": [
    {
     "name": "stdout",
     "output_type": "stream",
     "text": [
      "\n",
      "Perplexity for LDA Model with sklearn:  60078.22829925564\n"
     ]
    }
   ],
   "source": [
    "perplex_sklearn = flightglobal_sklearn.perplexity(article_vect_test) # LDA with sklearn\n",
    "print('\\nPerplexity for LDA Model with sklearn: ', perplex_sklearn)"
   ]
  },
  {
   "cell_type": "code",
   "execution_count": 25,
   "metadata": {},
   "outputs": [
    {
     "name": "stdout",
     "output_type": "stream",
     "text": [
      "\n",
      "Coherence Score for LDA Model with Gensim:  0.33175523921392325\n",
      "\n",
      "Coherence Score for LDA Mallet Model:  0.5107084225872364\n"
     ]
    }
   ],
   "source": [
    "# Compute coherence score\n",
    "from gensim.models import CoherenceModel\n",
    "\n",
    "# LDA Model with Gensim\n",
    "coherence_model_gensim = CoherenceModel(model=flightglobal_gensim, texts=corpus, dictionary=article_dict, coherence='c_v')\n",
    "coherence_gensim = coherence_model_gensim.get_coherence()\n",
    "print('\\nCoherence Score for LDA Model with Gensim: ', coherence_gensim)\n",
    "\n",
    "# LDA Mallet Model\n",
    "coherence_model_ldamallet = CoherenceModel(model=flightglobal_mallet, texts=corpus, dictionary=article_dict, coherence='c_v')\n",
    "coherence_ldamallet = coherence_model_ldamallet.get_coherence()\n",
    "print('\\nCoherence Score for LDA Mallet Model: ', coherence_ldamallet)"
   ]
  },
  {
   "cell_type": "markdown",
   "metadata": {},
   "source": [
    "### Iterating Perplexity and Coherence Scores across Various k Values"
   ]
  },
  {
   "cell_type": "markdown",
   "metadata": {},
   "source": [
    "### Perplexity Score"
   ]
  },
  {
   "cell_type": "code",
   "execution_count": 27,
   "metadata": {},
   "outputs": [
    {
     "name": "stdout",
     "output_type": "stream",
     "text": [
      "#Topics: 4 Score: -8.908735802378429\n",
      "#Topics: 5 Score: -9.024395096645923\n",
      "#Topics: 6 Score: -9.149856171793914\n",
      "#Topics: 7 Score: -9.235643356251602\n",
      "#Topics: 8 Score: -9.393258154965395\n",
      "#Topics: 9 Score: -9.510975161210792\n",
      "#Topics: 10 Score: -9.607771089224812\n",
      "#Topics: 11 Score: -9.694897206127406\n",
      "#Topics: 12 Score: -9.826166866525215\n",
      "#Topics: 13 Score: -9.915519809923028\n",
      "#Topics: 14 Score: -10.043242563370697\n",
      "#Topics: 15 Score: -10.049050455296552\n",
      "#Topics: 16 Score: -10.153139655954721\n",
      "#Topics: 17 Score: -10.18971792197358\n",
      "#Topics: 18 Score: -10.339795811918675\n",
      "#Topics: 19 Score: -10.463354542766742\n",
      "#Topics: 20 Score: -10.474578133356696\n"
     ]
    }
   ],
   "source": [
    "# Compute perplexity score of LDA Model with Gensim for different k\n",
    "model_list_gensim_p = []\n",
    "perplexity_values_gensim = []\n",
    "model_topics_gensim_p = []\n",
    "\n",
    "seed = 20\n",
    "\n",
    "for num_topics in range(4, 21, 1):\n",
    "    flightglobal_gensim_y = gensim.models.ldamodel.LdaModel(corpus=article_vecs_test, id2word=article_dict, num_topics=num_topics, random_state=seed, alpha=\"auto\")\n",
    "    perplexitymodel = flightglobal_gensim_y.log_perplexity(article_vecs_test, total_docs=None)\n",
    "    model_topics_gensim_p.append(num_topics)\n",
    "    model_list_gensim_p.append(flightglobal_gensim_y)\n",
    "    perplexity_values_gensim.append(flightglobal_gensim_y.log_perplexity(article_vecs_test))\n",
    "    print(\"#Topics: \" + str(num_topics) + \" Score: \" + str(flightglobal_gensim_y.log_perplexity(article_vecs_test)))"
   ]
  },
  {
   "cell_type": "code",
   "execution_count": 28,
   "metadata": {},
   "outputs": [
    {
     "data": {
      "text/plain": [
       "<Figure size 640x480 with 1 Axes>"
      ]
     },
     "metadata": {},
     "output_type": "display_data"
    }
   ],
   "source": [
    "# Plot the perplexity score for LDA Model with Gensim\n",
    "import matplotlib.pyplot as plt\n",
    "limit=21; start=4; step=1;\n",
    "y = range(start, limit, step)\n",
    "plt.plot(y, perplexity_values_gensim)\n",
    "plt.xlabel(\"Num Topics\")\n",
    "plt.ylabel(\"Perplexity score\")\n",
    "plt.legend((\"perplexity_values\"), loc='best')\n",
    "plt.show()"
   ]
  },
  {
   "cell_type": "code",
   "execution_count": 29,
   "metadata": {},
   "outputs": [],
   "source": [
    "# Compute perplexity score of LDA Mallet Model for different k\n",
    "for num_topics in range(4, 21, 1):\n",
    "    flightglobal_mallet = gensim.models.wrappers.LdaMallet(mallet_path, corpus=article_vecs_test, iterations=no_iter, num_topics=num_topics, id2word=article_dict, random_seed=seed)"
   ]
  },
  {
   "cell_type": "code",
   "execution_count": 30,
   "metadata": {},
   "outputs": [],
   "source": [
    "# Scores were obtained from Anaconda Prompt\n",
    "perplexity_values_mallet = [-8.43984, -8.43337, -8.46574, -8.46437, -8.47162, -8.4826, -8.50025, -8.51341, -8.52613, \n",
    "                            -8.52091, -8.53493, -8.53873, -8.55143, -8.5564, -8.5782, -8.57417, -8.61087]"
   ]
  },
  {
   "cell_type": "code",
   "execution_count": 31,
   "metadata": {},
   "outputs": [
    {
     "data": {
      "image/png": "[encoded data removed]",
      "text/plain": [
       "<Figure size 432x288 with 1 Axes>"
      ]
     },
     "metadata": {
      "needs_background": "light"
     },
     "output_type": "display_data"
    }
   ],
   "source": [
    "# Plot the perplexity score for LDA Mallet Model\n",
    "import matplotlib.pyplot as plt\n",
    "limit=21; start=4; step=1;\n",
    "y = range(start, limit, step)\n",
    "plt.plot(y, perplexity_values_mallet)\n",
    "plt.xlabel(\"Num Topics\")\n",
    "plt.ylabel(\"Perplexity score\")\n",
    "plt.legend((\"perplexity_values\"), loc='best')\n",
    "plt.show()"
   ]
  },
  {
   "cell_type": "code",
   "execution_count": 33,
   "metadata": {},
   "outputs": [
    {
     "name": "stdout",
     "output_type": "stream",
     "text": [
      "\n",
      "Perplexity for LDA Model with sklearn:  60078.22829925564\n",
      "\n",
      "Perplexity for LDA Model with sklearn:  97088.32685099864\n",
      "\n",
      "Perplexity for LDA Model with sklearn:  107196.60213766122\n",
      "\n",
      "Perplexity for LDA Model with sklearn:  168586.83953815058\n",
      "\n",
      "Perplexity for LDA Model with sklearn:  182241.03739610355\n",
      "\n",
      "Perplexity for LDA Model with sklearn:  159251.85045951846\n",
      "\n",
      "Perplexity for LDA Model with sklearn:  211462.2778412899\n",
      "\n",
      "Perplexity for LDA Model with sklearn:  197389.1187096743\n",
      "\n",
      "Perplexity for LDA Model with sklearn:  210441.25168701363\n",
      "\n",
      "Perplexity for LDA Model with sklearn:  217306.05742697837\n",
      "\n",
      "Perplexity for LDA Model with sklearn:  209348.20954018747\n",
      "\n",
      "Perplexity for LDA Model with sklearn:  240627.72350294402\n",
      "\n",
      "Perplexity for LDA Model with sklearn:  248788.0051075087\n",
      "\n",
      "Perplexity for LDA Model with sklearn:  248249.6931772811\n",
      "\n",
      "Perplexity for LDA Model with sklearn:  313721.03894455265\n",
      "\n",
      "Perplexity for LDA Model with sklearn:  289171.2515919004\n",
      "\n",
      "Perplexity for LDA Model with sklearn:  295555.97520869045\n"
     ]
    }
   ],
   "source": [
    "# Compute perplexity score of LDA Model with sklearn for different k\n",
    "for num_topics in range(4, 21, 1):\n",
    "    flightglobal_sklearn_y = LatentDirichletAllocation(n_components=num_topics, learning_method='online', n_jobs = -1, random_state=seed)\n",
    "    sklearn_output_y = flightglobal_sklearn_y.fit_transform(article_vect)\n",
    "    perplex_sklearn_y = flightglobal_sklearn_y.perplexity(article_vect_test)\n",
    "    print('\\nPerplexity for LDA Model with sklearn: ', perplex_sklearn_y)"
   ]
  },
  {
   "cell_type": "code",
   "execution_count": 34,
   "metadata": {},
   "outputs": [
    {
     "name": "stdout",
     "output_type": "stream",
     "text": [
      "\n",
      "Perplexity for LDA Model with sklearn:  60079.79211240332\n",
      "\n",
      "Perplexity for LDA Model with sklearn:  97025.87211761708\n",
      "\n",
      "Perplexity for LDA Model with sklearn:  107408.05047130329\n",
      "\n",
      "Perplexity for LDA Model with sklearn:  170275.26819574457\n",
      "\n",
      "Perplexity for LDA Model with sklearn:  183164.55526642228\n",
      "\n",
      "Perplexity for LDA Model with sklearn:  158793.53732688844\n",
      "\n",
      "Perplexity for LDA Model with sklearn:  211358.75520764175\n",
      "\n",
      "Perplexity for LDA Model with sklearn:  197096.0212716449\n",
      "\n",
      "Perplexity for LDA Model with sklearn:  210212.38895951372\n",
      "\n",
      "Perplexity for LDA Model with sklearn:  217204.87588224994\n",
      "\n",
      "Perplexity for LDA Model with sklearn:  209219.23428934443\n",
      "\n",
      "Perplexity for LDA Model with sklearn:  240307.34901549952\n",
      "\n",
      "Perplexity for LDA Model with sklearn:  248455.43394550175\n",
      "\n",
      "Perplexity for LDA Model with sklearn:  249146.57477304686\n",
      "\n",
      "Perplexity for LDA Model with sklearn:  313801.489655498\n",
      "\n",
      "Perplexity for LDA Model with sklearn:  289852.76427921606\n",
      "\n",
      "Perplexity for LDA Model with sklearn:  294966.81268297683\n"
     ]
    }
   ],
   "source": [
    "# Compute perplexity score of LDA Model with sklearn for different k\n",
    "for num_topics in range(4, 21, 1):\n",
    "    flightglobal_sklearn_y = LatentDirichletAllocation(n_components=num_topics, learning_method='online', n_jobs = -1, random_state=seed)\n",
    "    sklearn_output_y = flightglobal_sklearn_y.fit_transform(article_vect)\n",
    "    perplex_sklearn_y = flightglobal_sklearn_y.perplexity(article_vect_test)\n",
    "    print('\\nPerplexity for LDA Model with sklearn: ', perplex_sklearn_y)"
   ]
  },
  {
   "cell_type": "code",
   "execution_count": 35,
   "metadata": {},
   "outputs": [],
   "source": [
    "# Scores obtained via iterations of different k\n",
    "perplexity_values_sklearn = [60089.54801, 97095.76973, 107194.4752, 168567.0805, 82254.7746, 159106.8298, 211537.5585, \n",
    "                             197137.075, 210325.733, 217480.5644, 210941.998, 240629.9993, 248649.9244, 248270.7704, \n",
    "                             313380.8702, 289488.0072, 294843.1227]"
   ]
  },
  {
   "cell_type": "code",
   "execution_count": 36,
   "metadata": {},
   "outputs": [
    {
     "data": {
      "image/png": "[encoded data removed]",
      "text/plain": [
       "<Figure size 432x288 with 1 Axes>"
      ]
     },
     "metadata": {
      "needs_background": "light"
     },
     "output_type": "display_data"
    }
   ],
   "source": [
    "# Plot the perplexity score for sklearn\n",
    "import matplotlib.pyplot as plt\n",
    "limit=21; start=4; step=1;\n",
    "y = range(start, limit, step)\n",
    "plt.plot(y, perplexity_values_sklearn)\n",
    "plt.xlabel(\"Num Topics\")\n",
    "plt.ylabel(\"Perplexity score\")\n",
    "plt.legend((\"perplexity_values\"), loc='best')\n",
    "plt.show()"
   ]
  },
  {
   "cell_type": "markdown",
   "metadata": {},
   "source": [
    "### Coherence Score"
   ]
  },
  {
   "cell_type": "code",
   "execution_count": 37,
   "metadata": {},
   "outputs": [],
   "source": [
    "from gensim.models import CoherenceModel\n",
    "import matplotlib.pyplot as plt"
   ]
  },
  {
   "cell_type": "code",
   "execution_count": 38,
   "metadata": {},
   "outputs": [
    {
     "name": "stdout",
     "output_type": "stream",
     "text": [
      "#Topics: 4 Score: 0.3029716604862394\n",
      "#Topics: 5 Score: 0.3023195695404072\n",
      "#Topics: 6 Score: 0.3068858684909257\n",
      "#Topics: 7 Score: 0.31037378979254476\n",
      "#Topics: 8 Score: 0.3042712762270139\n",
      "#Topics: 9 Score: 0.303768622748616\n",
      "#Topics: 10 Score: 0.32229542323801297\n",
      "#Topics: 11 Score: 0.3221974024494371\n",
      "#Topics: 12 Score: 0.33175523921392325\n",
      "#Topics: 13 Score: 0.3266773673040759\n",
      "#Topics: 14 Score: 0.3282532835795635\n",
      "#Topics: 15 Score: 0.3163563928699463\n",
      "#Topics: 16 Score: 0.32065581357782147\n",
      "#Topics: 17 Score: 0.3320057112521097\n",
      "#Topics: 18 Score: 0.34997939766780456\n",
      "#Topics: 19 Score: 0.34346247281622116\n",
      "#Topics: 20 Score: 0.338011504265345\n"
     ]
    }
   ],
   "source": [
    "# Compute coherence score of LDA Model with Gensim for different k\n",
    "model_list_gensim = []\n",
    "coherence_values_gensim = []\n",
    "model_topics_gensim = []\n",
    "\n",
    "seed=20\n",
    "\n",
    "for num_topics in range(4, 21, 1):\n",
    "    flightglobal_gensim_x = gensim.models.ldamodel.LdaModel(corpus=article_vecs, id2word=article_dict, num_topics=num_topics, random_state=seed, alpha=\"auto\")\n",
    "    coherencemodel = CoherenceModel(model=flightglobal_gensim_x, texts=corpus, dictionary=article_dict, coherence='c_v')\n",
    "    model_topics_gensim.append(num_topics)\n",
    "    model_list_gensim.append(flightglobal_gensim_x)\n",
    "    coherence_values_gensim.append(coherencemodel.get_coherence())\n",
    "    print(\"#Topics: \" + str(num_topics) + \" Score: \" + str(coherencemodel.get_coherence()))"
   ]
  },
  {
   "cell_type": "code",
   "execution_count": 39,
   "metadata": {},
   "outputs": [
    {
     "data": {
      "image/png": "[encoded data removed]",
      "text/plain": [
       "<Figure size 432x288 with 1 Axes>"
      ]
     },
     "metadata": {
      "needs_background": "light"
     },
     "output_type": "display_data"
    }
   ],
   "source": [
    "# Plot the coherence score for LDA Model with Gensim\n",
    "limit=21; start=4; step=1;\n",
    "x = range(start, limit, step)\n",
    "plt.plot(x, coherence_values_gensim)\n",
    "plt.xlabel(\"Num Topics\")\n",
    "plt.ylabel(\"Coherence score\")\n",
    "plt.legend((\"coherence_values\"), loc='best')\n",
    "plt.show()"
   ]
  },
  {
   "cell_type": "code",
   "execution_count": 40,
   "metadata": {},
   "outputs": [
    {
     "name": "stdout",
     "output_type": "stream",
     "text": [
      "(0, '0.019*\"say\" + 0.008*\"government\" + 0.007*\"flybe\" + 0.006*\"financial\" + 0.006*\"include\" + 0.006*\"state\" + 0.005*\"work\" + 0.005*\"business\" + 0.005*\"carrier\" + 0.005*\"coronavirus\"')\n",
      "(1, '0.016*\"say\" + 0.012*\"faa\" + 0.012*\"bek\" + 0.008*\"airport\" + 0.006*\"safety\" + 0.005*\"pilot\" + 0.004*\"crew\" + 0.004*\"traffic\" + 0.004*\"system\" + 0.004*\"fokker\"')\n",
      "(2, '0.012*\"service\" + 0.012*\"say\" + 0.012*\"carrier\" + 0.009*\"passenger\" + 0.008*\"fleet\" + 0.008*\"data\" + 0.008*\"route\" + 0.007*\"operate\" + 0.007*\"airport\" + 0.007*\"international\"')\n",
      "(3, '0.017*\"say\" + 0.010*\"business\" + 0.007*\"rescue\" + 0.007*\"plan\" + 0.007*\"government\" + 0.007*\"saa\" + 0.006*\"state\" + 0.005*\"include\" + 0.005*\"south\" + 0.005*\"add\"')\n",
      "(4, '0.022*\"say\" + 0.008*\"helicopter\" + 0.007*\"service\" + 0.005*\"carrier\" + 0.005*\"certification\" + 0.004*\"system\" + 0.004*\"safety\" + 0.004*\"include\" + 0.004*\"add\" + 0.004*\"u\"')\n",
      "(5, '0.014*\"say\" + 0.010*\"united\" + 0.009*\"production\" + 0.006*\"spirit\" + 0.005*\"work\" + 0.005*\"site\" + 0.005*\"u\" + 0.004*\"mobile\" + 0.004*\"state\" + 0.004*\"service\"')\n",
      "(6, '0.009*\"carrier\" + 0.008*\"service\" + 0.007*\"say\" + 0.006*\"u\" + 0.005*\"fuel\" + 0.005*\"include\" + 0.005*\"passenger\" + 0.004*\"alaska\" + 0.004*\"state\" + 0.004*\"report\"')\n",
      "(7, '0.021*\"say\" + 0.010*\"service\" + 0.007*\"include\" + 0.006*\"u\" + 0.006*\"carrier\" + 0.005*\"airport\" + 0.004*\"need\" + 0.004*\"helicopter\" + 0.004*\"order\" + 0.004*\"system\"')\n",
      "(8, '0.015*\"say\" + 0.009*\"crew\" + 0.009*\"runway\" + 0.009*\"airport\" + 0.009*\"pilot\" + 0.008*\"state\" + 0.007*\"inquiry\" + 0.007*\"uk\" + 0.006*\"engine\" + 0.005*\"investigator\"')\n",
      "(9, '0.018*\"say\" + 0.011*\"u\" + 0.007*\"january\" + 0.006*\"test\" + 0.005*\"helicopter\" + 0.004*\"missile\" + 0.004*\"iranian\" + 0.004*\"service\" + 0.004*\"plan\" + 0.004*\"add\"')\n",
      "(10, '0.013*\"say\" + 0.007*\"avianca\" + 0.006*\"business\" + 0.006*\"tui\" + 0.006*\"jet\" + 0.006*\"fleet\" + 0.005*\"order\" + 0.005*\"carrier\" + 0.004*\"executive\" + 0.004*\"take\"')\n",
      "(11, '0.015*\"say\" + 0.012*\"carrier\" + 0.006*\"passenger\" + 0.006*\"january\" + 0.006*\"capacity\" + 0.005*\"demand\" + 0.005*\"route\" + 0.005*\"outbreak\" + 0.005*\"service\" + 0.005*\"coronavirus\"')\n",
      "(12, '0.014*\"helicopter\" + 0.013*\"u\" + 0.012*\"say\" + 0.008*\"force\" + 0.006*\"service\" + 0.005*\"bell\" + 0.005*\"capability\" + 0.005*\"military\" + 0.005*\"system\" + 0.004*\"include\"')\n",
      "(13, '0.018*\"say\" + 0.007*\"latam\" + 0.006*\"service\" + 0.006*\"carrier\" + 0.005*\"passenger\" + 0.005*\"u\" + 0.005*\"include\" + 0.005*\"january\" + 0.005*\"airport\" + 0.004*\"state\"')\n",
      "(14, '0.026*\"say\" + 0.007*\"order\" + 0.006*\"fleet\" + 0.005*\"include\" + 0.005*\"add\" + 0.005*\"carrier\" + 0.004*\"take\" + 0.004*\"u\" + 0.004*\"service\" + 0.004*\"jet\"')\n",
      "(15, '0.016*\"say\" + 0.014*\"engine\" + 0.007*\"system\" + 0.006*\"land\" + 0.006*\"production\" + 0.005*\"runway\" + 0.005*\"bombardier\" + 0.005*\"crew\" + 0.004*\"service\" + 0.004*\"january\"')\n",
      "(16, '0.013*\"say\" + 0.013*\"airasia\" + 0.009*\"carrier\" + 0.005*\"bribery\" + 0.005*\"executive\" + 0.005*\"investigation\" + 0.004*\"add\" + 0.004*\"allegation\" + 0.004*\"operation\" + 0.004*\"month\"')\n"
     ]
    }
   ],
   "source": [
    "gensim_optimal = model_list_gensim[13]\n",
    "\n",
    "gensim_topics = gensim_optimal.print_topics(num_topics=17)\n",
    "for topic in gensim_topics:\n",
    "    print(topic)"
   ]
  },
  {
   "cell_type": "code",
   "execution_count": 41,
   "metadata": {},
   "outputs": [
    {
     "name": "stdout",
     "output_type": "stream",
     "text": [
      "#Topics: 4 Score: 0.5252299880818516\n",
      "#Topics: 5 Score: 0.5394124043794148\n",
      "#Topics: 6 Score: 0.5465351821666962\n",
      "#Topics: 7 Score: 0.5465433888006964\n",
      "#Topics: 8 Score: 0.5236620306055811\n",
      "#Topics: 9 Score: 0.5428319347787969\n",
      "#Topics: 10 Score: 0.5304432140246698\n",
      "#Topics: 11 Score: 0.4972278961879024\n",
      "#Topics: 12 Score: 0.5322029608016077\n",
      "#Topics: 13 Score: 0.514699645152939\n",
      "#Topics: 14 Score: 0.535082893144568\n",
      "#Topics: 15 Score: 0.5284069499854607\n",
      "#Topics: 16 Score: 0.5498474758070722\n",
      "#Topics: 17 Score: 0.5229612693614841\n",
      "#Topics: 18 Score: 0.5262112376580643\n",
      "#Topics: 19 Score: 0.5425829319935138\n",
      "#Topics: 20 Score: 0.5181142723842237\n"
     ]
    }
   ],
   "source": [
    "# Compute coherence score of LDA Mallet Model for different k\n",
    "model_list_mallet = []\n",
    "coherence_values_mallet = []\n",
    "model_topics_mallet = []\n",
    "\n",
    "seed=20\n",
    "\n",
    "for num_topics in range(4, 21, 1):\n",
    "    flightglobal_mallet_x = gensim.models.wrappers.LdaMallet(mallet_path, iterations=1000, corpus=article_vecs, num_topics=num_topics, id2word=article_dict, random_seed=seed, optimize_interval=100, workers=5)\n",
    "    coherencemodel = CoherenceModel(model=flightglobal_mallet_x, texts=corpus, dictionary=article_dict, coherence='c_v')\n",
    "    model_topics_mallet.append(num_topics)\n",
    "    model_list_mallet.append(flightglobal_mallet_x)\n",
    "    coherence_values_mallet.append(coherencemodel.get_coherence())\n",
    "    print(\"#Topics: \" + str(num_topics) + \" Score: \" + str(coherencemodel.get_coherence()))"
   ]
  },
  {
   "cell_type": "code",
   "execution_count": 42,
   "metadata": {},
   "outputs": [
    {
     "data": {
      "image/png": "[encoded data removed]",
      "text/plain": [
       "<Figure size 432x288 with 1 Axes>"
      ]
     },
     "metadata": {
      "needs_background": "light"
     },
     "output_type": "display_data"
    }
   ],
   "source": [
    "# Plot the coherence score for LDA Mallet Model\n",
    "limit=21; start=4; step=1;\n",
    "x = range(start, limit, step)\n",
    "plt.plot(x, coherence_values_mallet)\n",
    "plt.xlabel(\"Num Topics\")\n",
    "plt.ylabel(\"Coherence score\")\n",
    "plt.legend((\"coherence_values\"), loc='best')\n",
    "plt.show()"
   ]
  },
  {
   "cell_type": "code",
   "execution_count": 43,
   "metadata": {},
   "outputs": [
    {
     "name": "stdout",
     "output_type": "stream",
     "text": [
      "(0, '0.014*\"government\" + 0.010*\"plan\" + 0.010*\"carrier\" + 0.009*\"business\" + 0.009*\"state\" + 0.008*\"agreement\" + 0.007*\"support\" + 0.007*\"uk\" + 0.007*\"share\" + 0.007*\"add\"')\n",
      "(1, '0.017*\"crew\" + 0.013*\"runway\" + 0.012*\"pilot\" + 0.010*\"faa\" + 0.008*\"safety\" + 0.008*\"approach\" + 0.007*\"land\" + 0.007*\"engine\" + 0.007*\"investigation\" + 0.007*\"inquiry\"')\n",
      "(2, '0.026*\"carrier\" + 0.022*\"service\" + 0.016*\"international\" + 0.015*\"airport\" + 0.015*\"route\" + 0.013*\"passenger\" + 0.012*\"operate\" + 0.012*\"schedule\" + 0.011*\"march\" + 0.010*\"operation\"')\n",
      "(3, '0.016*\"helicopter\" + 0.014*\"force\" + 0.013*\"system\" + 0.009*\"service\" + 0.009*\"test\" + 0.007*\"capability\" + 0.007*\"military\" + 0.007*\"usaf\" + 0.007*\"programme\" + 0.007*\"lockheed\"')\n",
      "(4, '0.013*\"coronavirus\" + 0.012*\"government\" + 0.011*\"industry\" + 0.011*\"passenger\" + 0.010*\"travel\" + 0.008*\"measure\" + 0.007*\"include\" + 0.007*\"support\" + 0.007*\"work\" + 0.007*\"country\"')\n",
      "(5, '0.013*\"production\" + 0.012*\"engine\" + 0.010*\"jet\" + 0.009*\"programme\" + 0.009*\"business\" + 0.008*\"test\" + 0.007*\"service\" + 0.007*\"work\" + 0.007*\"include\" + 0.007*\"commercial\"')\n",
      "(6, '0.012*\"coronavirus\" + 0.011*\"month\" + 0.011*\"fleet\" + 0.011*\"expect\" + 0.010*\"demand\" + 0.010*\"impact\" + 0.010*\"cost\" + 0.009*\"capacity\" + 0.009*\"revenue\" + 0.009*\"cut\"')\n"
     ]
    }
   ],
   "source": [
    "mallet_optimal = model_list_mallet[3]\n",
    "\n",
    "mallet_topics = mallet_optimal.print_topics(num_topics=7)\n",
    "for topic in mallet_topics:\n",
    "    print(topic)"
   ]
  },
  {
   "cell_type": "markdown",
   "metadata": {},
   "source": [
    "### Visualizations "
   ]
  },
  {
   "cell_type": "code",
   "execution_count": 44,
   "metadata": {},
   "outputs": [
    {
     "name": "stderr",
     "output_type": "stream",
     "text": [
      "C:\\Users\\selen\\Anaconda3\\lib\\site-packages\\pyLDAvis\\_prepare.py:257: FutureWarning: Sorting because non-concatenation axis is not aligned. A future version\n",
      "of pandas will change to not sort by default.\n",
      "\n",
      "To accept the future behavior, pass 'sort=False'.\n",
      "\n",
      "To retain the current behavior and silence the warning, pass 'sort=True'.\n",
      "\n",
      "  return pd.concat([default_term_info] + list(topic_dfs))\n"
     ]
    }
   ],
   "source": [
    "import pyLDAvis.gensim\n",
    "pyLDAvis.enable_notebook()\n",
    "gensim_visual = pyLDAvis.gensim.prepare(flightglobal_gensim, article_vecs, article_dict)\n",
    "pyLDAvis.save_html(gensim_visual, \"gensimtopic_viz.html\") # save the output to the html file"
   ]
  },
  {
   "cell_type": "code",
   "execution_count": 45,
   "metadata": {},
   "outputs": [
    {
     "name": "stderr",
     "output_type": "stream",
     "text": [
      "C:\\Users\\selen\\Anaconda3\\lib\\site-packages\\pyLDAvis\\_prepare.py:257: FutureWarning: Sorting because non-concatenation axis is not aligned. A future version\n",
      "of pandas will change to not sort by default.\n",
      "\n",
      "To accept the future behavior, pass 'sort=False'.\n",
      "\n",
      "To retain the current behavior and silence the warning, pass 'sort=True'.\n",
      "\n",
      "  return pd.concat([default_term_info] + list(topic_dfs))\n"
     ]
    }
   ],
   "source": [
    "# Generate the visualisation\n",
    "\n",
    "# For Gensim Model\n",
    "import pyLDAvis.gensim\n",
    "pyLDAvis.enable_notebook()\n",
    "gensim_visual = pyLDAvis.gensim.prepare(flightglobal_gensim, article_vecs, article_dict)\n",
    "pyLDAvis.save_html(gensim_visual, \"gensimtopic_viz.html\") # save the output to the html file"
   ]
  },
  {
   "cell_type": "code",
   "execution_count": 46,
   "metadata": {},
   "outputs": [
    {
     "name": "stderr",
     "output_type": "stream",
     "text": [
      "C:\\Users\\selen\\Anaconda3\\lib\\site-packages\\pyLDAvis\\_prepare.py:223: RuntimeWarning: divide by zero encountered in log\n",
      "  kernel = (topic_given_term * np.log((topic_given_term.T / topic_proportion).T))\n",
      "C:\\Users\\selen\\Anaconda3\\lib\\site-packages\\pyLDAvis\\_prepare.py:240: RuntimeWarning: divide by zero encountered in log\n",
      "  log_lift = np.log(topic_term_dists / term_proportion)\n",
      "C:\\Users\\selen\\Anaconda3\\lib\\site-packages\\pyLDAvis\\_prepare.py:241: RuntimeWarning: divide by zero encountered in log\n",
      "  log_ttd = np.log(topic_term_dists)\n",
      "C:\\Users\\selen\\Anaconda3\\lib\\site-packages\\pyLDAvis\\_prepare.py:257: FutureWarning: Sorting because non-concatenation axis is not aligned. A future version\n",
      "of pandas will change to not sort by default.\n",
      "\n",
      "To accept the future behavior, pass 'sort=False'.\n",
      "\n",
      "To retain the current behavior and silence the warning, pass 'sort=True'.\n",
      "\n",
      "  return pd.concat([default_term_info] + list(topic_dfs))\n"
     ]
    }
   ],
   "source": [
    "# For Mallet Model\n",
    "import gensim\n",
    "import pyLDAvis.gensim\n",
    "\n",
    "mallet_Lda = gensim.models.wrappers.ldamallet.malletmodel2ldamodel(flightglobal_mallet) # convert class of mallet model into LdaModel\n",
    "pyLDAvis.enable_notebook()\n",
    "mallet_visual = pyLDAvis.gensim.prepare(mallet_Lda, article_vecs, article_dict)\n",
    "pyLDAvis.save_html(mallet_visual, \"mallettopic_viz.html\") # save the output to the html file"
   ]
  },
  {
   "cell_type": "code",
   "execution_count": 47,
   "metadata": {},
   "outputs": [
    {
     "name": "stderr",
     "output_type": "stream",
     "text": [
      "C:\\Users\\selen\\Anaconda3\\lib\\site-packages\\pyLDAvis\\_prepare.py:257: FutureWarning: Sorting because non-concatenation axis is not aligned. A future version\n",
      "of pandas will change to not sort by default.\n",
      "\n",
      "To accept the future behavior, pass 'sort=False'.\n",
      "\n",
      "To retain the current behavior and silence the warning, pass 'sort=True'.\n",
      "\n",
      "  return pd.concat([default_term_info] + list(topic_dfs))\n"
     ]
    }
   ],
   "source": [
    "# For sklearn\n",
    "from pyLDAvis import sklearn as sklearn_lda\n",
    "import pyLDAvis\n",
    "\n",
    "sklearn_visual = sklearn_lda.prepare(flightglobal_sklearn, article_vect, vectorizer)\n",
    "pyLDAvis.save_html(sklearn_visual, \"sklearntopic_viz.html\") # save the output to the html file"
   ]
  }
 ],
 "metadata": {
  "kernelspec": {
   "display_name": "Python 3",
   "language": "python",
   "name": "python3"
  },
  "language_info": {
   "codemirror_mode": {
    "name": "ipython",
    "version": 3
   },
   "file_extension": ".py",
   "mimetype": "text/x-python",
   "name": "python",
   "nbconvert_exporter": "python",
   "pygments_lexer": "ipython3",
   "version": "3.7.4"
  }
 },
 "nbformat": 4,
 "nbformat_minor": 2
}
